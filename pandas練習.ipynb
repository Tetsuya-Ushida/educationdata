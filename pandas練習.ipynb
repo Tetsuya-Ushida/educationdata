{
 "nbformat": 4,
 "nbformat_minor": 2,
 "metadata": {
  "language_info": {
   "name": "python",
   "codemirror_mode": {
    "name": "ipython",
    "version": 3
   },
   "version": "3.7.4-final"
  },
  "orig_nbformat": 2,
  "file_extension": ".py",
  "mimetype": "text/x-python",
  "name": "python",
  "npconvert_exporter": "python",
  "pygments_lexer": "ipython3",
  "version": 3,
  "kernelspec": {
   "name": "python37464bit374pyenve61f2d109cf84db497a3a4bbdc6f8dd9",
   "display_name": "Python 3.7.4 64-bit ('3.7.4': pyenv)"
  }
 },
 "cells": [
  {
   "cell_type": "code",
   "execution_count": 1,
   "metadata": {},
   "outputs": [],
   "source": [
    "import pandas as pd"
   ]
  },
  {
   "cell_type": "code",
   "execution_count": 3,
   "metadata": {},
   "outputs": [],
   "source": [
    "data = pd.read_csv(\"section6-1.csv\",index_col=0)"
   ]
  },
  {
   "cell_type": "code",
   "execution_count": 4,
   "metadata": {},
   "outputs": [
    {
     "data": {
      "text/html": "<div>\n<style scoped>\n    .dataframe tbody tr th:only-of-type {\n        vertical-align: middle;\n    }\n\n    .dataframe tbody tr th {\n        vertical-align: top;\n    }\n\n    .dataframe thead th {\n        text-align: right;\n    }\n</style>\n<table border=\"1\" class=\"dataframe\">\n  <thead>\n    <tr style=\"text-align: right;\">\n      <th></th>\n      <th>item1</th>\n      <th>item2</th>\n      <th>item3</th>\n      <th>item4</th>\n      <th>item5</th>\n      <th>item6</th>\n      <th>item7</th>\n      <th>item8</th>\n      <th>Class</th>\n    </tr>\n  </thead>\n  <tbody>\n    <tr>\n      <th>s01</th>\n      <td>5</td>\n      <td>4</td>\n      <td>4</td>\n      <td>5</td>\n      <td>4</td>\n      <td>4</td>\n      <td>6</td>\n      <td>5</td>\n      <td>A</td>\n    </tr>\n    <tr>\n      <th>s02</th>\n      <td>4</td>\n      <td>3</td>\n      <td>1</td>\n      <td>3</td>\n      <td>3</td>\n      <td>3</td>\n      <td>2</td>\n      <td>4</td>\n      <td>A</td>\n    </tr>\n    <tr>\n      <th>s03</th>\n      <td>4</td>\n      <td>4</td>\n      <td>3</td>\n      <td>3</td>\n      <td>3</td>\n      <td>3</td>\n      <td>3</td>\n      <td>3</td>\n      <td>A</td>\n    </tr>\n    <tr>\n      <th>s04</th>\n      <td>5</td>\n      <td>3</td>\n      <td>3</td>\n      <td>3</td>\n      <td>3</td>\n      <td>4</td>\n      <td>3</td>\n      <td>3</td>\n      <td>A</td>\n    </tr>\n    <tr>\n      <th>s05</th>\n      <td>3</td>\n      <td>2</td>\n      <td>3</td>\n      <td>3</td>\n      <td>3</td>\n      <td>3</td>\n      <td>3</td>\n      <td>3</td>\n      <td>A</td>\n    </tr>\n  </tbody>\n</table>\n</div>",
      "text/plain": "     item1  item2  item3  item4  item5  item6  item7  item8 Class\ns01      5      4      4      5      4      4      6      5     A\ns02      4      3      1      3      3      3      2      4     A\ns03      4      4      3      3      3      3      3      3     A\ns04      5      3      3      3      3      4      3      3     A\ns05      3      2      3      3      3      3      3      3     A"
     },
     "execution_count": 4,
     "metadata": {},
     "output_type": "execute_result"
    }
   ],
   "source": [
    "data.head()"
   ]
  },
  {
   "cell_type": "code",
   "execution_count": 5,
   "metadata": {},
   "outputs": [
    {
     "data": {
      "text/html": "<div>\n<style scoped>\n    .dataframe tbody tr th:only-of-type {\n        vertical-align: middle;\n    }\n\n    .dataframe tbody tr th {\n        vertical-align: top;\n    }\n\n    .dataframe thead th {\n        text-align: right;\n    }\n</style>\n<table border=\"1\" class=\"dataframe\">\n  <thead>\n    <tr style=\"text-align: right;\">\n      <th></th>\n      <th>item1</th>\n      <th>item2</th>\n      <th>item3</th>\n      <th>item4</th>\n      <th>item5</th>\n      <th>item6</th>\n      <th>item7</th>\n      <th>item8</th>\n      <th>Class</th>\n    </tr>\n  </thead>\n  <tbody>\n    <tr>\n      <th>s16</th>\n      <td>5</td>\n      <td>5</td>\n      <td>5</td>\n      <td>4</td>\n      <td>5</td>\n      <td>4</td>\n      <td>4</td>\n      <td>3</td>\n      <td>B</td>\n    </tr>\n    <tr>\n      <th>s17</th>\n      <td>4</td>\n      <td>3</td>\n      <td>3</td>\n      <td>4</td>\n      <td>4</td>\n      <td>4</td>\n      <td>3</td>\n      <td>3</td>\n      <td>B</td>\n    </tr>\n    <tr>\n      <th>s18</th>\n      <td>2</td>\n      <td>1</td>\n      <td>1</td>\n      <td>1</td>\n      <td>1</td>\n      <td>2</td>\n      <td>5</td>\n      <td>5</td>\n      <td>B</td>\n    </tr>\n    <tr>\n      <th>s19</th>\n      <td>4</td>\n      <td>3</td>\n      <td>3</td>\n      <td>4</td>\n      <td>3</td>\n      <td>3</td>\n      <td>2</td>\n      <td>2</td>\n      <td>B</td>\n    </tr>\n    <tr>\n      <th>s20</th>\n      <td>6</td>\n      <td>6</td>\n      <td>6</td>\n      <td>6</td>\n      <td>6</td>\n      <td>6</td>\n      <td>6</td>\n      <td>6</td>\n      <td>B</td>\n    </tr>\n  </tbody>\n</table>\n</div>",
      "text/plain": "     item1  item2  item3  item4  item5  item6  item7  item8 Class\ns16      5      5      5      4      5      4      4      3     B\ns17      4      3      3      4      4      4      3      3     B\ns18      2      1      1      1      1      2      5      5     B\ns19      4      3      3      4      3      3      2      2     B\ns20      6      6      6      6      6      6      6      6     B"
     },
     "execution_count": 5,
     "metadata": {},
     "output_type": "execute_result"
    }
   ],
   "source": [
    "data.tail()"
   ]
  },
  {
   "cell_type": "code",
   "execution_count": 6,
   "metadata": {},
   "outputs": [
    {
     "data": {
      "text/plain": "Index(['s01', 's02', 's03', 's04', 's05', 's06', 's07', 's08', 's09', 's10',\n       's11', 's12', 's13', 's14', 's15', 's16', 's17', 's18', 's19', 's20'],\n      dtype='object')"
     },
     "execution_count": 6,
     "metadata": {},
     "output_type": "execute_result"
    }
   ],
   "source": [
    "data.index"
   ]
  },
  {
   "cell_type": "code",
   "execution_count": 8,
   "metadata": {},
   "outputs": [
    {
     "data": {
      "text/plain": "Index(['item1', 'item2', 'item3', 'item4', 'item5', 'item6', 'item7', 'item8',\n       'Class'],\n      dtype='object')"
     },
     "execution_count": 8,
     "metadata": {},
     "output_type": "execute_result"
    }
   ],
   "source": [
    "data.columns"
   ]
  },
  {
   "cell_type": "code",
   "execution_count": 9,
   "metadata": {},
   "outputs": [
    {
     "data": {
      "text/plain": "item1    4.15\nitem2    3.65\nitem3    3.50\nitem4    3.55\nitem5    3.40\nitem6    3.55\nitem7    3.60\nitem8    3.55\ndtype: float64"
     },
     "execution_count": 9,
     "metadata": {},
     "output_type": "execute_result"
    }
   ],
   "source": [
    "data.mean()"
   ]
  },
  {
   "cell_type": "code",
   "execution_count": 10,
   "metadata": {},
   "outputs": [
    {
     "data": {
      "text/html": "<div>\n<style scoped>\n    .dataframe tbody tr th:only-of-type {\n        vertical-align: middle;\n    }\n\n    .dataframe tbody tr th {\n        vertical-align: top;\n    }\n\n    .dataframe thead th {\n        text-align: right;\n    }\n</style>\n<table border=\"1\" class=\"dataframe\">\n  <thead>\n    <tr style=\"text-align: right;\">\n      <th></th>\n      <th>item1</th>\n      <th>item2</th>\n      <th>item3</th>\n      <th>item4</th>\n      <th>item5</th>\n      <th>item6</th>\n      <th>item7</th>\n      <th>item8</th>\n    </tr>\n  </thead>\n  <tbody>\n    <tr>\n      <th>count</th>\n      <td>20.000000</td>\n      <td>20.000000</td>\n      <td>20.00000</td>\n      <td>20.000000</td>\n      <td>20.000000</td>\n      <td>20.000000</td>\n      <td>20.000000</td>\n      <td>20.000000</td>\n    </tr>\n    <tr>\n      <th>mean</th>\n      <td>4.150000</td>\n      <td>3.650000</td>\n      <td>3.50000</td>\n      <td>3.550000</td>\n      <td>3.400000</td>\n      <td>3.550000</td>\n      <td>3.600000</td>\n      <td>3.550000</td>\n    </tr>\n    <tr>\n      <th>std</th>\n      <td>1.182103</td>\n      <td>1.424411</td>\n      <td>1.60591</td>\n      <td>1.503505</td>\n      <td>1.602629</td>\n      <td>1.468081</td>\n      <td>1.602629</td>\n      <td>1.431782</td>\n    </tr>\n    <tr>\n      <th>min</th>\n      <td>2.000000</td>\n      <td>1.000000</td>\n      <td>1.00000</td>\n      <td>1.000000</td>\n      <td>1.000000</td>\n      <td>1.000000</td>\n      <td>1.000000</td>\n      <td>1.000000</td>\n    </tr>\n    <tr>\n      <th>25%</th>\n      <td>3.750000</td>\n      <td>3.000000</td>\n      <td>2.00000</td>\n      <td>3.000000</td>\n      <td>2.750000</td>\n      <td>3.000000</td>\n      <td>2.000000</td>\n      <td>3.000000</td>\n    </tr>\n    <tr>\n      <th>50%</th>\n      <td>4.000000</td>\n      <td>3.500000</td>\n      <td>3.00000</td>\n      <td>3.000000</td>\n      <td>3.000000</td>\n      <td>3.500000</td>\n      <td>3.000000</td>\n      <td>3.000000</td>\n    </tr>\n    <tr>\n      <th>75%</th>\n      <td>5.000000</td>\n      <td>4.250000</td>\n      <td>5.00000</td>\n      <td>4.250000</td>\n      <td>4.250000</td>\n      <td>4.000000</td>\n      <td>5.000000</td>\n      <td>4.250000</td>\n    </tr>\n    <tr>\n      <th>max</th>\n      <td>6.000000</td>\n      <td>6.000000</td>\n      <td>6.00000</td>\n      <td>6.000000</td>\n      <td>6.000000</td>\n      <td>6.000000</td>\n      <td>6.000000</td>\n      <td>6.000000</td>\n    </tr>\n  </tbody>\n</table>\n</div>",
      "text/plain": "           item1      item2     item3      item4      item5      item6  \\\ncount  20.000000  20.000000  20.00000  20.000000  20.000000  20.000000   \nmean    4.150000   3.650000   3.50000   3.550000   3.400000   3.550000   \nstd     1.182103   1.424411   1.60591   1.503505   1.602629   1.468081   \nmin     2.000000   1.000000   1.00000   1.000000   1.000000   1.000000   \n25%     3.750000   3.000000   2.00000   3.000000   2.750000   3.000000   \n50%     4.000000   3.500000   3.00000   3.000000   3.000000   3.500000   \n75%     5.000000   4.250000   5.00000   4.250000   4.250000   4.000000   \nmax     6.000000   6.000000   6.00000   6.000000   6.000000   6.000000   \n\n           item7      item8  \ncount  20.000000  20.000000  \nmean    3.600000   3.550000  \nstd     1.602629   1.431782  \nmin     1.000000   1.000000  \n25%     2.000000   3.000000  \n50%     3.000000   3.000000  \n75%     5.000000   4.250000  \nmax     6.000000   6.000000  "
     },
     "execution_count": 10,
     "metadata": {},
     "output_type": "execute_result"
    }
   ],
   "source": [
    "data.describe()"
   ]
  },
  {
   "cell_type": "code",
   "execution_count": 11,
   "metadata": {},
   "outputs": [
    {
     "data": {
      "text/html": "<div>\n<style scoped>\n    .dataframe tbody tr th:only-of-type {\n        vertical-align: middle;\n    }\n\n    .dataframe tbody tr th {\n        vertical-align: top;\n    }\n\n    .dataframe thead th {\n        text-align: right;\n    }\n</style>\n<table border=\"1\" class=\"dataframe\">\n  <thead>\n    <tr style=\"text-align: right;\">\n      <th></th>\n      <th>item1</th>\n      <th>item2</th>\n      <th>item3</th>\n      <th>item4</th>\n      <th>item5</th>\n      <th>item6</th>\n      <th>item7</th>\n      <th>item8</th>\n    </tr>\n  </thead>\n  <tbody>\n    <tr>\n      <th>item1</th>\n      <td>1.000000</td>\n      <td>0.876776</td>\n      <td>0.817884</td>\n      <td>0.898762</td>\n      <td>0.911238</td>\n      <td>0.890121</td>\n      <td>0.644534</td>\n      <td>0.632817</td>\n    </tr>\n    <tr>\n      <th>item2</th>\n      <td>0.876776</td>\n      <td>1.000000</td>\n      <td>0.908839</td>\n      <td>0.831888</td>\n      <td>0.894560</td>\n      <td>0.826792</td>\n      <td>0.673226</td>\n      <td>0.615492</td>\n    </tr>\n    <tr>\n      <th>item3</th>\n      <td>0.817884</td>\n      <td>0.908839</td>\n      <td>1.000000</td>\n      <td>0.861028</td>\n      <td>0.879347</td>\n      <td>0.837156</td>\n      <td>0.736198</td>\n      <td>0.560808</td>\n    </tr>\n    <tr>\n      <th>item4</th>\n      <td>0.898762</td>\n      <td>0.831888</td>\n      <td>0.861028</td>\n      <td>1.000000</td>\n      <td>0.930504</td>\n      <td>0.904906</td>\n      <td>0.707707</td>\n      <td>0.634457</td>\n    </tr>\n    <tr>\n      <th>item5</th>\n      <td>0.911238</td>\n      <td>0.894560</td>\n      <td>0.879347</td>\n      <td>0.930504</td>\n      <td>1.000000</td>\n      <td>0.952956</td>\n      <td>0.721311</td>\n      <td>0.678935</td>\n    </tr>\n    <tr>\n      <th>item6</th>\n      <td>0.890121</td>\n      <td>0.826792</td>\n      <td>0.837156</td>\n      <td>0.904906</td>\n      <td>0.952956</td>\n      <td>1.000000</td>\n      <td>0.769523</td>\n      <td>0.749922</td>\n    </tr>\n    <tr>\n      <th>item7</th>\n      <td>0.644534</td>\n      <td>0.673226</td>\n      <td>0.736198</td>\n      <td>0.707707</td>\n      <td>0.721311</td>\n      <td>0.769523</td>\n      <td>1.000000</td>\n      <td>0.903717</td>\n    </tr>\n    <tr>\n      <th>item8</th>\n      <td>0.632817</td>\n      <td>0.615492</td>\n      <td>0.560808</td>\n      <td>0.634457</td>\n      <td>0.678935</td>\n      <td>0.749922</td>\n      <td>0.903717</td>\n      <td>1.000000</td>\n    </tr>\n  </tbody>\n</table>\n</div>",
      "text/plain": "          item1     item2     item3     item4     item5     item6     item7  \\\nitem1  1.000000  0.876776  0.817884  0.898762  0.911238  0.890121  0.644534   \nitem2  0.876776  1.000000  0.908839  0.831888  0.894560  0.826792  0.673226   \nitem3  0.817884  0.908839  1.000000  0.861028  0.879347  0.837156  0.736198   \nitem4  0.898762  0.831888  0.861028  1.000000  0.930504  0.904906  0.707707   \nitem5  0.911238  0.894560  0.879347  0.930504  1.000000  0.952956  0.721311   \nitem6  0.890121  0.826792  0.837156  0.904906  0.952956  1.000000  0.769523   \nitem7  0.644534  0.673226  0.736198  0.707707  0.721311  0.769523  1.000000   \nitem8  0.632817  0.615492  0.560808  0.634457  0.678935  0.749922  0.903717   \n\n          item8  \nitem1  0.632817  \nitem2  0.615492  \nitem3  0.560808  \nitem4  0.634457  \nitem5  0.678935  \nitem6  0.749922  \nitem7  0.903717  \nitem8  1.000000  "
     },
     "execution_count": 11,
     "metadata": {},
     "output_type": "execute_result"
    }
   ],
   "source": [
    "data.corr()"
   ]
  },
  {
   "cell_type": "code",
   "execution_count": 12,
   "metadata": {},
   "outputs": [
    {
     "data": {
      "text/html": "<div>\n<style scoped>\n    .dataframe tbody tr th:only-of-type {\n        vertical-align: middle;\n    }\n\n    .dataframe tbody tr th {\n        vertical-align: top;\n    }\n\n    .dataframe thead th {\n        text-align: right;\n    }\n</style>\n<table border=\"1\" class=\"dataframe\">\n  <thead>\n    <tr style=\"text-align: right;\">\n      <th></th>\n      <th>item1</th>\n      <th>item2</th>\n      <th>item3</th>\n      <th>item4</th>\n      <th>item5</th>\n      <th>item6</th>\n      <th>item7</th>\n      <th>item8</th>\n      <th>Class</th>\n    </tr>\n  </thead>\n  <tbody>\n    <tr>\n      <th>s01</th>\n      <td>5</td>\n      <td>4</td>\n      <td>4</td>\n      <td>5</td>\n      <td>4</td>\n      <td>4</td>\n      <td>6</td>\n      <td>5</td>\n      <td>A</td>\n    </tr>\n    <tr>\n      <th>s02</th>\n      <td>4</td>\n      <td>3</td>\n      <td>1</td>\n      <td>3</td>\n      <td>3</td>\n      <td>3</td>\n      <td>2</td>\n      <td>4</td>\n      <td>A</td>\n    </tr>\n    <tr>\n      <th>s03</th>\n      <td>4</td>\n      <td>4</td>\n      <td>3</td>\n      <td>3</td>\n      <td>3</td>\n      <td>3</td>\n      <td>3</td>\n      <td>3</td>\n      <td>A</td>\n    </tr>\n    <tr>\n      <th>s04</th>\n      <td>5</td>\n      <td>3</td>\n      <td>3</td>\n      <td>3</td>\n      <td>3</td>\n      <td>4</td>\n      <td>3</td>\n      <td>3</td>\n      <td>A</td>\n    </tr>\n    <tr>\n      <th>s05</th>\n      <td>3</td>\n      <td>2</td>\n      <td>3</td>\n      <td>3</td>\n      <td>3</td>\n      <td>3</td>\n      <td>3</td>\n      <td>3</td>\n      <td>A</td>\n    </tr>\n  </tbody>\n</table>\n</div>",
      "text/plain": "     item1  item2  item3  item4  item5  item6  item7  item8 Class\ns01      5      4      4      5      4      4      6      5     A\ns02      4      3      1      3      3      3      2      4     A\ns03      4      4      3      3      3      3      3      3     A\ns04      5      3      3      3      3      4      3      3     A\ns05      3      2      3      3      3      3      3      3     A"
     },
     "execution_count": 12,
     "metadata": {},
     "output_type": "execute_result"
    }
   ],
   "source": [
    "data.head()"
   ]
  },
  {
   "cell_type": "code",
   "execution_count": 13,
   "metadata": {},
   "outputs": [
    {
     "data": {
      "text/html": "<div>\n<style scoped>\n    .dataframe tbody tr th:only-of-type {\n        vertical-align: middle;\n    }\n\n    .dataframe tbody tr th {\n        vertical-align: top;\n    }\n\n    .dataframe thead th {\n        text-align: right;\n    }\n</style>\n<table border=\"1\" class=\"dataframe\">\n  <thead>\n    <tr style=\"text-align: right;\">\n      <th></th>\n      <th>item1</th>\n      <th>item2</th>\n      <th>item3</th>\n      <th>item4</th>\n      <th>item5</th>\n      <th>item6</th>\n      <th>item7</th>\n      <th>item8</th>\n      <th>Class</th>\n    </tr>\n  </thead>\n  <tbody>\n    <tr>\n      <th>s11</th>\n      <td>4</td>\n      <td>3</td>\n      <td>2</td>\n      <td>2</td>\n      <td>2</td>\n      <td>2</td>\n      <td>2</td>\n      <td>3</td>\n      <td>B</td>\n    </tr>\n    <tr>\n      <th>s12</th>\n      <td>6</td>\n      <td>6</td>\n      <td>6</td>\n      <td>6</td>\n      <td>6</td>\n      <td>6</td>\n      <td>6</td>\n      <td>6</td>\n      <td>B</td>\n    </tr>\n    <tr>\n      <th>s13</th>\n      <td>4</td>\n      <td>4</td>\n      <td>5</td>\n      <td>4</td>\n      <td>3</td>\n      <td>3</td>\n      <td>4</td>\n      <td>3</td>\n      <td>B</td>\n    </tr>\n    <tr>\n      <th>s14</th>\n      <td>5</td>\n      <td>5</td>\n      <td>5</td>\n      <td>5</td>\n      <td>5</td>\n      <td>5</td>\n      <td>5</td>\n      <td>4</td>\n      <td>B</td>\n    </tr>\n    <tr>\n      <th>s15</th>\n      <td>6</td>\n      <td>6</td>\n      <td>6</td>\n      <td>6</td>\n      <td>6</td>\n      <td>6</td>\n      <td>6</td>\n      <td>6</td>\n      <td>B</td>\n    </tr>\n    <tr>\n      <th>s16</th>\n      <td>5</td>\n      <td>5</td>\n      <td>5</td>\n      <td>4</td>\n      <td>5</td>\n      <td>4</td>\n      <td>4</td>\n      <td>3</td>\n      <td>B</td>\n    </tr>\n    <tr>\n      <th>s17</th>\n      <td>4</td>\n      <td>3</td>\n      <td>3</td>\n      <td>4</td>\n      <td>4</td>\n      <td>4</td>\n      <td>3</td>\n      <td>3</td>\n      <td>B</td>\n    </tr>\n    <tr>\n      <th>s18</th>\n      <td>2</td>\n      <td>1</td>\n      <td>1</td>\n      <td>1</td>\n      <td>1</td>\n      <td>2</td>\n      <td>5</td>\n      <td>5</td>\n      <td>B</td>\n    </tr>\n    <tr>\n      <th>s19</th>\n      <td>4</td>\n      <td>3</td>\n      <td>3</td>\n      <td>4</td>\n      <td>3</td>\n      <td>3</td>\n      <td>2</td>\n      <td>2</td>\n      <td>B</td>\n    </tr>\n    <tr>\n      <th>s20</th>\n      <td>6</td>\n      <td>6</td>\n      <td>6</td>\n      <td>6</td>\n      <td>6</td>\n      <td>6</td>\n      <td>6</td>\n      <td>6</td>\n      <td>B</td>\n    </tr>\n  </tbody>\n</table>\n</div>",
      "text/plain": "     item1  item2  item3  item4  item5  item6  item7  item8 Class\ns11      4      3      2      2      2      2      2      3     B\ns12      6      6      6      6      6      6      6      6     B\ns13      4      4      5      4      3      3      4      3     B\ns14      5      5      5      5      5      5      5      4     B\ns15      6      6      6      6      6      6      6      6     B\ns16      5      5      5      4      5      4      4      3     B\ns17      4      3      3      4      4      4      3      3     B\ns18      2      1      1      1      1      2      5      5     B\ns19      4      3      3      4      3      3      2      2     B\ns20      6      6      6      6      6      6      6      6     B"
     },
     "execution_count": 13,
     "metadata": {},
     "output_type": "execute_result"
    }
   ],
   "source": [
    "data[data[\"Class\"]==\"B\"]"
   ]
  },
  {
   "cell_type": "code",
   "execution_count": 15,
   "metadata": {},
   "outputs": [
    {
     "data": {
      "text/html": "<div>\n<style scoped>\n    .dataframe tbody tr th:only-of-type {\n        vertical-align: middle;\n    }\n\n    .dataframe tbody tr th {\n        vertical-align: top;\n    }\n\n    .dataframe thead th {\n        text-align: right;\n    }\n</style>\n<table border=\"1\" class=\"dataframe\">\n  <thead>\n    <tr style=\"text-align: right;\">\n      <th></th>\n      <th>item1</th>\n      <th>item2</th>\n      <th>item3</th>\n      <th>item4</th>\n      <th>item5</th>\n      <th>item6</th>\n      <th>item7</th>\n      <th>item8</th>\n      <th>Class</th>\n    </tr>\n  </thead>\n  <tbody>\n    <tr>\n      <th>s12</th>\n      <td>6</td>\n      <td>6</td>\n      <td>6</td>\n      <td>6</td>\n      <td>6</td>\n      <td>6</td>\n      <td>6</td>\n      <td>6</td>\n      <td>B</td>\n    </tr>\n    <tr>\n      <th>s14</th>\n      <td>5</td>\n      <td>5</td>\n      <td>5</td>\n      <td>5</td>\n      <td>5</td>\n      <td>5</td>\n      <td>5</td>\n      <td>4</td>\n      <td>B</td>\n    </tr>\n    <tr>\n      <th>s15</th>\n      <td>6</td>\n      <td>6</td>\n      <td>6</td>\n      <td>6</td>\n      <td>6</td>\n      <td>6</td>\n      <td>6</td>\n      <td>6</td>\n      <td>B</td>\n    </tr>\n    <tr>\n      <th>s16</th>\n      <td>5</td>\n      <td>5</td>\n      <td>5</td>\n      <td>4</td>\n      <td>5</td>\n      <td>4</td>\n      <td>4</td>\n      <td>3</td>\n      <td>B</td>\n    </tr>\n    <tr>\n      <th>s20</th>\n      <td>6</td>\n      <td>6</td>\n      <td>6</td>\n      <td>6</td>\n      <td>6</td>\n      <td>6</td>\n      <td>6</td>\n      <td>6</td>\n      <td>B</td>\n    </tr>\n  </tbody>\n</table>\n</div>",
      "text/plain": "     item1  item2  item3  item4  item5  item6  item7  item8 Class\ns12      6      6      6      6      6      6      6      6     B\ns14      5      5      5      5      5      5      5      4     B\ns15      6      6      6      6      6      6      6      6     B\ns16      5      5      5      4      5      4      4      3     B\ns20      6      6      6      6      6      6      6      6     B"
     },
     "execution_count": 15,
     "metadata": {},
     "output_type": "execute_result"
    }
   ],
   "source": [
    "data[(data[\"item1\"]>4) & (data[\"item2\"]>4)]"
   ]
  },
  {
   "cell_type": "code",
   "execution_count": 16,
   "metadata": {},
   "outputs": [
    {
     "data": {
      "text/html": "<div>\n<style scoped>\n    .dataframe tbody tr th:only-of-type {\n        vertical-align: middle;\n    }\n\n    .dataframe tbody tr th {\n        vertical-align: top;\n    }\n\n    .dataframe thead th {\n        text-align: right;\n    }\n</style>\n<table border=\"1\" class=\"dataframe\">\n  <thead>\n    <tr style=\"text-align: right;\">\n      <th></th>\n      <th>item1</th>\n      <th>item2</th>\n      <th>item3</th>\n      <th>item4</th>\n      <th>item5</th>\n      <th>item6</th>\n      <th>item7</th>\n      <th>item8</th>\n      <th>Class</th>\n    </tr>\n  </thead>\n  <tbody>\n    <tr>\n      <th>s01</th>\n      <td>5</td>\n      <td>4</td>\n      <td>4</td>\n      <td>5</td>\n      <td>4</td>\n      <td>4</td>\n      <td>6</td>\n      <td>5</td>\n      <td>A</td>\n    </tr>\n    <tr>\n      <th>s04</th>\n      <td>5</td>\n      <td>3</td>\n      <td>3</td>\n      <td>3</td>\n      <td>3</td>\n      <td>4</td>\n      <td>3</td>\n      <td>3</td>\n      <td>A</td>\n    </tr>\n    <tr>\n      <th>s12</th>\n      <td>6</td>\n      <td>6</td>\n      <td>6</td>\n      <td>6</td>\n      <td>6</td>\n      <td>6</td>\n      <td>6</td>\n      <td>6</td>\n      <td>B</td>\n    </tr>\n    <tr>\n      <th>s14</th>\n      <td>5</td>\n      <td>5</td>\n      <td>5</td>\n      <td>5</td>\n      <td>5</td>\n      <td>5</td>\n      <td>5</td>\n      <td>4</td>\n      <td>B</td>\n    </tr>\n    <tr>\n      <th>s15</th>\n      <td>6</td>\n      <td>6</td>\n      <td>6</td>\n      <td>6</td>\n      <td>6</td>\n      <td>6</td>\n      <td>6</td>\n      <td>6</td>\n      <td>B</td>\n    </tr>\n    <tr>\n      <th>s16</th>\n      <td>5</td>\n      <td>5</td>\n      <td>5</td>\n      <td>4</td>\n      <td>5</td>\n      <td>4</td>\n      <td>4</td>\n      <td>3</td>\n      <td>B</td>\n    </tr>\n    <tr>\n      <th>s20</th>\n      <td>6</td>\n      <td>6</td>\n      <td>6</td>\n      <td>6</td>\n      <td>6</td>\n      <td>6</td>\n      <td>6</td>\n      <td>6</td>\n      <td>B</td>\n    </tr>\n  </tbody>\n</table>\n</div>",
      "text/plain": "     item1  item2  item3  item4  item5  item6  item7  item8 Class\ns01      5      4      4      5      4      4      6      5     A\ns04      5      3      3      3      3      4      3      3     A\ns12      6      6      6      6      6      6      6      6     B\ns14      5      5      5      5      5      5      5      4     B\ns15      6      6      6      6      6      6      6      6     B\ns16      5      5      5      4      5      4      4      3     B\ns20      6      6      6      6      6      6      6      6     B"
     },
     "execution_count": 16,
     "metadata": {},
     "output_type": "execute_result"
    }
   ],
   "source": [
    "data[(data[\"item1\"]>4) | (data[\"item2\"]>4)]"
   ]
  },
  {
   "cell_type": "code",
   "execution_count": 17,
   "metadata": {},
   "outputs": [
    {
     "data": {
      "text/html": "<div>\n<style scoped>\n    .dataframe tbody tr th:only-of-type {\n        vertical-align: middle;\n    }\n\n    .dataframe tbody tr th {\n        vertical-align: top;\n    }\n\n    .dataframe thead th {\n        text-align: right;\n    }\n</style>\n<table border=\"1\" class=\"dataframe\">\n  <thead>\n    <tr style=\"text-align: right;\">\n      <th></th>\n      <th>item1</th>\n      <th>item2</th>\n      <th>item3</th>\n      <th>item4</th>\n      <th>item5</th>\n      <th>item6</th>\n      <th>item7</th>\n      <th>item8</th>\n      <th>Class</th>\n    </tr>\n  </thead>\n  <tbody>\n    <tr>\n      <th>s18</th>\n      <td>2</td>\n      <td>1</td>\n      <td>1</td>\n      <td>1</td>\n      <td>1</td>\n      <td>2</td>\n      <td>5</td>\n      <td>5</td>\n      <td>B</td>\n    </tr>\n    <tr>\n      <th>s06</th>\n      <td>2</td>\n      <td>3</td>\n      <td>2</td>\n      <td>1</td>\n      <td>1</td>\n      <td>1</td>\n      <td>2</td>\n      <td>2</td>\n      <td>A</td>\n    </tr>\n    <tr>\n      <th>s05</th>\n      <td>3</td>\n      <td>2</td>\n      <td>3</td>\n      <td>3</td>\n      <td>3</td>\n      <td>3</td>\n      <td>3</td>\n      <td>3</td>\n      <td>A</td>\n    </tr>\n    <tr>\n      <th>s08</th>\n      <td>3</td>\n      <td>2</td>\n      <td>2</td>\n      <td>3</td>\n      <td>2</td>\n      <td>3</td>\n      <td>2</td>\n      <td>2</td>\n      <td>A</td>\n    </tr>\n    <tr>\n      <th>s09</th>\n      <td>3</td>\n      <td>2</td>\n      <td>2</td>\n      <td>2</td>\n      <td>1</td>\n      <td>1</td>\n      <td>1</td>\n      <td>1</td>\n      <td>A</td>\n    </tr>\n    <tr>\n      <th>s10</th>\n      <td>4</td>\n      <td>4</td>\n      <td>4</td>\n      <td>3</td>\n      <td>4</td>\n      <td>4</td>\n      <td>3</td>\n      <td>3</td>\n      <td>A</td>\n    </tr>\n    <tr>\n      <th>s02</th>\n      <td>4</td>\n      <td>3</td>\n      <td>1</td>\n      <td>3</td>\n      <td>3</td>\n      <td>3</td>\n      <td>2</td>\n      <td>4</td>\n      <td>A</td>\n    </tr>\n    <tr>\n      <th>s03</th>\n      <td>4</td>\n      <td>4</td>\n      <td>3</td>\n      <td>3</td>\n      <td>3</td>\n      <td>3</td>\n      <td>3</td>\n      <td>3</td>\n      <td>A</td>\n    </tr>\n    <tr>\n      <th>s07</th>\n      <td>4</td>\n      <td>4</td>\n      <td>4</td>\n      <td>3</td>\n      <td>3</td>\n      <td>4</td>\n      <td>4</td>\n      <td>4</td>\n      <td>A</td>\n    </tr>\n    <tr>\n      <th>s19</th>\n      <td>4</td>\n      <td>3</td>\n      <td>3</td>\n      <td>4</td>\n      <td>3</td>\n      <td>3</td>\n      <td>2</td>\n      <td>2</td>\n      <td>B</td>\n    </tr>\n    <tr>\n      <th>s11</th>\n      <td>4</td>\n      <td>3</td>\n      <td>2</td>\n      <td>2</td>\n      <td>2</td>\n      <td>2</td>\n      <td>2</td>\n      <td>3</td>\n      <td>B</td>\n    </tr>\n    <tr>\n      <th>s17</th>\n      <td>4</td>\n      <td>3</td>\n      <td>3</td>\n      <td>4</td>\n      <td>4</td>\n      <td>4</td>\n      <td>3</td>\n      <td>3</td>\n      <td>B</td>\n    </tr>\n    <tr>\n      <th>s13</th>\n      <td>4</td>\n      <td>4</td>\n      <td>5</td>\n      <td>4</td>\n      <td>3</td>\n      <td>3</td>\n      <td>4</td>\n      <td>3</td>\n      <td>B</td>\n    </tr>\n    <tr>\n      <th>s16</th>\n      <td>5</td>\n      <td>5</td>\n      <td>5</td>\n      <td>4</td>\n      <td>5</td>\n      <td>4</td>\n      <td>4</td>\n      <td>3</td>\n      <td>B</td>\n    </tr>\n    <tr>\n      <th>s01</th>\n      <td>5</td>\n      <td>4</td>\n      <td>4</td>\n      <td>5</td>\n      <td>4</td>\n      <td>4</td>\n      <td>6</td>\n      <td>5</td>\n      <td>A</td>\n    </tr>\n    <tr>\n      <th>s14</th>\n      <td>5</td>\n      <td>5</td>\n      <td>5</td>\n      <td>5</td>\n      <td>5</td>\n      <td>5</td>\n      <td>5</td>\n      <td>4</td>\n      <td>B</td>\n    </tr>\n    <tr>\n      <th>s04</th>\n      <td>5</td>\n      <td>3</td>\n      <td>3</td>\n      <td>3</td>\n      <td>3</td>\n      <td>4</td>\n      <td>3</td>\n      <td>3</td>\n      <td>A</td>\n    </tr>\n    <tr>\n      <th>s12</th>\n      <td>6</td>\n      <td>6</td>\n      <td>6</td>\n      <td>6</td>\n      <td>6</td>\n      <td>6</td>\n      <td>6</td>\n      <td>6</td>\n      <td>B</td>\n    </tr>\n    <tr>\n      <th>s15</th>\n      <td>6</td>\n      <td>6</td>\n      <td>6</td>\n      <td>6</td>\n      <td>6</td>\n      <td>6</td>\n      <td>6</td>\n      <td>6</td>\n      <td>B</td>\n    </tr>\n    <tr>\n      <th>s20</th>\n      <td>6</td>\n      <td>6</td>\n      <td>6</td>\n      <td>6</td>\n      <td>6</td>\n      <td>6</td>\n      <td>6</td>\n      <td>6</td>\n      <td>B</td>\n    </tr>\n  </tbody>\n</table>\n</div>",
      "text/plain": "     item1  item2  item3  item4  item5  item6  item7  item8 Class\ns18      2      1      1      1      1      2      5      5     B\ns06      2      3      2      1      1      1      2      2     A\ns05      3      2      3      3      3      3      3      3     A\ns08      3      2      2      3      2      3      2      2     A\ns09      3      2      2      2      1      1      1      1     A\ns10      4      4      4      3      4      4      3      3     A\ns02      4      3      1      3      3      3      2      4     A\ns03      4      4      3      3      3      3      3      3     A\ns07      4      4      4      3      3      4      4      4     A\ns19      4      3      3      4      3      3      2      2     B\ns11      4      3      2      2      2      2      2      3     B\ns17      4      3      3      4      4      4      3      3     B\ns13      4      4      5      4      3      3      4      3     B\ns16      5      5      5      4      5      4      4      3     B\ns01      5      4      4      5      4      4      6      5     A\ns14      5      5      5      5      5      5      5      4     B\ns04      5      3      3      3      3      4      3      3     A\ns12      6      6      6      6      6      6      6      6     B\ns15      6      6      6      6      6      6      6      6     B\ns20      6      6      6      6      6      6      6      6     B"
     },
     "execution_count": 17,
     "metadata": {},
     "output_type": "execute_result"
    }
   ],
   "source": [
    "data.sort_values(by=\"item1\")"
   ]
  },
  {
   "cell_type": "code",
   "execution_count": 18,
   "metadata": {},
   "outputs": [
    {
     "data": {
      "text/html": "<div>\n<style scoped>\n    .dataframe tbody tr th:only-of-type {\n        vertical-align: middle;\n    }\n\n    .dataframe tbody tr th {\n        vertical-align: top;\n    }\n\n    .dataframe thead th {\n        text-align: right;\n    }\n</style>\n<table border=\"1\" class=\"dataframe\">\n  <thead>\n    <tr style=\"text-align: right;\">\n      <th></th>\n      <th>item1</th>\n      <th>item2</th>\n      <th>item3</th>\n      <th>item4</th>\n      <th>item5</th>\n      <th>item6</th>\n      <th>item7</th>\n      <th>item8</th>\n      <th>Class</th>\n    </tr>\n  </thead>\n  <tbody>\n    <tr>\n      <th>s16</th>\n      <td>5</td>\n      <td>5</td>\n      <td>5</td>\n      <td>4</td>\n      <td>5</td>\n      <td>4</td>\n      <td>4</td>\n      <td>3</td>\n      <td>B</td>\n    </tr>\n    <tr>\n      <th>s17</th>\n      <td>4</td>\n      <td>3</td>\n      <td>3</td>\n      <td>4</td>\n      <td>4</td>\n      <td>4</td>\n      <td>3</td>\n      <td>3</td>\n      <td>B</td>\n    </tr>\n    <tr>\n      <th>s18</th>\n      <td>2</td>\n      <td>1</td>\n      <td>1</td>\n      <td>1</td>\n      <td>1</td>\n      <td>2</td>\n      <td>5</td>\n      <td>5</td>\n      <td>B</td>\n    </tr>\n    <tr>\n      <th>s19</th>\n      <td>4</td>\n      <td>3</td>\n      <td>3</td>\n      <td>4</td>\n      <td>3</td>\n      <td>3</td>\n      <td>2</td>\n      <td>2</td>\n      <td>B</td>\n    </tr>\n    <tr>\n      <th>s20</th>\n      <td>6</td>\n      <td>6</td>\n      <td>6</td>\n      <td>6</td>\n      <td>6</td>\n      <td>6</td>\n      <td>6</td>\n      <td>6</td>\n      <td>B</td>\n    </tr>\n  </tbody>\n</table>\n</div>",
      "text/plain": "     item1  item2  item3  item4  item5  item6  item7  item8 Class\ns16      5      5      5      4      5      4      4      3     B\ns17      4      3      3      4      4      4      3      3     B\ns18      2      1      1      1      1      2      5      5     B\ns19      4      3      3      4      3      3      2      2     B\ns20      6      6      6      6      6      6      6      6     B"
     },
     "execution_count": 18,
     "metadata": {},
     "output_type": "execute_result"
    }
   ],
   "source": [
    "data.tail()"
   ]
  },
  {
   "cell_type": "code",
   "execution_count": 20,
   "metadata": {},
   "outputs": [],
   "source": [
    "data2 = pd.read_csv(\"section6-2.csv\",index_col=0)"
   ]
  },
  {
   "cell_type": "code",
   "execution_count": 21,
   "metadata": {},
   "outputs": [
    {
     "data": {
      "text/html": "<div>\n<style scoped>\n    .dataframe tbody tr th:only-of-type {\n        vertical-align: middle;\n    }\n\n    .dataframe tbody tr th {\n        vertical-align: top;\n    }\n\n    .dataframe thead th {\n        text-align: right;\n    }\n</style>\n<table border=\"1\" class=\"dataframe\">\n  <thead>\n    <tr style=\"text-align: right;\">\n      <th></th>\n      <th>item1</th>\n      <th>item2</th>\n      <th>item3</th>\n      <th>item4</th>\n      <th>item5</th>\n      <th>item6</th>\n      <th>item7</th>\n      <th>item8</th>\n      <th>Class</th>\n    </tr>\n  </thead>\n  <tbody>\n    <tr>\n      <th>s16</th>\n      <td>5</td>\n      <td>5</td>\n      <td>5.0</td>\n      <td>4.0</td>\n      <td>5</td>\n      <td>4</td>\n      <td>4.0</td>\n      <td>3</td>\n      <td>B</td>\n    </tr>\n    <tr>\n      <th>s17</th>\n      <td>4</td>\n      <td>3</td>\n      <td>3.0</td>\n      <td>4.0</td>\n      <td>4</td>\n      <td>4</td>\n      <td>3.0</td>\n      <td>3</td>\n      <td>B</td>\n    </tr>\n    <tr>\n      <th>s18</th>\n      <td>2</td>\n      <td>1</td>\n      <td>NaN</td>\n      <td>1.0</td>\n      <td>1</td>\n      <td>2</td>\n      <td>5.0</td>\n      <td>5</td>\n      <td>B</td>\n    </tr>\n    <tr>\n      <th>s19</th>\n      <td>4</td>\n      <td>3</td>\n      <td>3.0</td>\n      <td>4.0</td>\n      <td>3</td>\n      <td>3</td>\n      <td>2.0</td>\n      <td>2</td>\n      <td>B</td>\n    </tr>\n    <tr>\n      <th>s20</th>\n      <td>6</td>\n      <td>6</td>\n      <td>6.0</td>\n      <td>6.0</td>\n      <td>6</td>\n      <td>6</td>\n      <td>6.0</td>\n      <td>6</td>\n      <td>B</td>\n    </tr>\n  </tbody>\n</table>\n</div>",
      "text/plain": "     item1  item2  item3  item4  item5  item6  item7  item8 Class\ns16      5      5    5.0    4.0      5      4    4.0      3     B\ns17      4      3    3.0    4.0      4      4    3.0      3     B\ns18      2      1    NaN    1.0      1      2    5.0      5     B\ns19      4      3    3.0    4.0      3      3    2.0      2     B\ns20      6      6    6.0    6.0      6      6    6.0      6     B"
     },
     "execution_count": 21,
     "metadata": {},
     "output_type": "execute_result"
    }
   ],
   "source": [
    "data2.tail()"
   ]
  },
  {
   "cell_type": "code",
   "execution_count": 22,
   "metadata": {},
   "outputs": [],
   "source": [
    "data3 = pd.read_csv(\"section6-3.csv\",index_col=0)"
   ]
  },
  {
   "cell_type": "code",
   "execution_count": 24,
   "metadata": {},
   "outputs": [
    {
     "data": {
      "text/html": "<div>\n<style scoped>\n    .dataframe tbody tr th:only-of-type {\n        vertical-align: middle;\n    }\n\n    .dataframe tbody tr th {\n        vertical-align: top;\n    }\n\n    .dataframe thead th {\n        text-align: right;\n    }\n</style>\n<table border=\"1\" class=\"dataframe\">\n  <thead>\n    <tr style=\"text-align: right;\">\n      <th></th>\n      <th>item1</th>\n      <th>item2</th>\n      <th>item3</th>\n      <th>item4</th>\n    </tr>\n  </thead>\n  <tbody>\n    <tr>\n      <th>S001</th>\n      <td>2</td>\n      <td>3.0</td>\n      <td>3.0</td>\n      <td>3</td>\n    </tr>\n    <tr>\n      <th>S002</th>\n      <td>3</td>\n      <td>3.0</td>\n      <td>4.0</td>\n      <td>4</td>\n    </tr>\n    <tr>\n      <th>S003</th>\n      <td>4</td>\n      <td>4.0</td>\n      <td>3.0</td>\n      <td>4</td>\n    </tr>\n    <tr>\n      <th>S004</th>\n      <td>5</td>\n      <td>4.0</td>\n      <td>3.0</td>\n      <td>4</td>\n    </tr>\n    <tr>\n      <th>S005</th>\n      <td>3</td>\n      <td>4.0</td>\n      <td>2.0</td>\n      <td>4</td>\n    </tr>\n  </tbody>\n</table>\n</div>",
      "text/plain": "      item1  item2  item3  item4\nS001      2    3.0    3.0      3\nS002      3    3.0    4.0      4\nS003      4    4.0    3.0      4\nS004      5    4.0    3.0      4\nS005      3    4.0    2.0      4"
     },
     "execution_count": 24,
     "metadata": {},
     "output_type": "execute_result"
    }
   ],
   "source": [
    "data3.head()"
   ]
  },
  {
   "cell_type": "code",
   "execution_count": 25,
   "metadata": {},
   "outputs": [
    {
     "data": {
      "text/html": "<div>\n<style scoped>\n    .dataframe tbody tr th:only-of-type {\n        vertical-align: middle;\n    }\n\n    .dataframe tbody tr th {\n        vertical-align: top;\n    }\n\n    .dataframe thead th {\n        text-align: right;\n    }\n</style>\n<table border=\"1\" class=\"dataframe\">\n  <thead>\n    <tr style=\"text-align: right;\">\n      <th></th>\n      <th>item1</th>\n      <th>item2</th>\n      <th>item3</th>\n      <th>item4</th>\n    </tr>\n  </thead>\n  <tbody>\n    <tr>\n      <th>S011</th>\n      <td>4</td>\n      <td>NaN</td>\n      <td>4.0</td>\n      <td>3</td>\n    </tr>\n    <tr>\n      <th>S012</th>\n      <td>3</td>\n      <td>4.0</td>\n      <td>3.0</td>\n      <td>3</td>\n    </tr>\n    <tr>\n      <th>S013</th>\n      <td>3</td>\n      <td>4.0</td>\n      <td>4.0</td>\n      <td>3</td>\n    </tr>\n    <tr>\n      <th>S014</th>\n      <td>3</td>\n      <td>4.0</td>\n      <td>3.0</td>\n      <td>4</td>\n    </tr>\n    <tr>\n      <th>S015</th>\n      <td>5</td>\n      <td>5.0</td>\n      <td>5.0</td>\n      <td>4</td>\n    </tr>\n  </tbody>\n</table>\n</div>",
      "text/plain": "      item1  item2  item3  item4\nS011      4    NaN    4.0      3\nS012      3    4.0    3.0      3\nS013      3    4.0    4.0      3\nS014      3    4.0    3.0      4\nS015      5    5.0    5.0      4"
     },
     "execution_count": 25,
     "metadata": {},
     "output_type": "execute_result"
    }
   ],
   "source": [
    "data3.tail()"
   ]
  },
  {
   "cell_type": "code",
   "execution_count": 26,
   "metadata": {},
   "outputs": [],
   "source": [
    "data3 = data3.dropna()"
   ]
  },
  {
   "cell_type": "code",
   "execution_count": 27,
   "metadata": {},
   "outputs": [
    {
     "data": {
      "text/html": "<div>\n<style scoped>\n    .dataframe tbody tr th:only-of-type {\n        vertical-align: middle;\n    }\n\n    .dataframe tbody tr th {\n        vertical-align: top;\n    }\n\n    .dataframe thead th {\n        text-align: right;\n    }\n</style>\n<table border=\"1\" class=\"dataframe\">\n  <thead>\n    <tr style=\"text-align: right;\">\n      <th></th>\n      <th>item1</th>\n      <th>item2</th>\n      <th>item3</th>\n      <th>item4</th>\n    </tr>\n  </thead>\n  <tbody>\n    <tr>\n      <th>S001</th>\n      <td>2</td>\n      <td>3.0</td>\n      <td>3.0</td>\n      <td>3</td>\n    </tr>\n    <tr>\n      <th>S002</th>\n      <td>3</td>\n      <td>3.0</td>\n      <td>4.0</td>\n      <td>4</td>\n    </tr>\n    <tr>\n      <th>S003</th>\n      <td>4</td>\n      <td>4.0</td>\n      <td>3.0</td>\n      <td>4</td>\n    </tr>\n    <tr>\n      <th>S004</th>\n      <td>5</td>\n      <td>4.0</td>\n      <td>3.0</td>\n      <td>4</td>\n    </tr>\n    <tr>\n      <th>S005</th>\n      <td>3</td>\n      <td>4.0</td>\n      <td>2.0</td>\n      <td>4</td>\n    </tr>\n    <tr>\n      <th>S006</th>\n      <td>3</td>\n      <td>3.0</td>\n      <td>4.0</td>\n      <td>3</td>\n    </tr>\n    <tr>\n      <th>S007</th>\n      <td>4</td>\n      <td>3.0</td>\n      <td>4.0</td>\n      <td>4</td>\n    </tr>\n    <tr>\n      <th>S009</th>\n      <td>4</td>\n      <td>5.0</td>\n      <td>5.0</td>\n      <td>5</td>\n    </tr>\n    <tr>\n      <th>S010</th>\n      <td>2</td>\n      <td>2.0</td>\n      <td>1.0</td>\n      <td>2</td>\n    </tr>\n    <tr>\n      <th>S012</th>\n      <td>3</td>\n      <td>4.0</td>\n      <td>3.0</td>\n      <td>3</td>\n    </tr>\n    <tr>\n      <th>S013</th>\n      <td>3</td>\n      <td>4.0</td>\n      <td>4.0</td>\n      <td>3</td>\n    </tr>\n    <tr>\n      <th>S014</th>\n      <td>3</td>\n      <td>4.0</td>\n      <td>3.0</td>\n      <td>4</td>\n    </tr>\n    <tr>\n      <th>S015</th>\n      <td>5</td>\n      <td>5.0</td>\n      <td>5.0</td>\n      <td>4</td>\n    </tr>\n  </tbody>\n</table>\n</div>",
      "text/plain": "      item1  item2  item3  item4\nS001      2    3.0    3.0      3\nS002      3    3.0    4.0      4\nS003      4    4.0    3.0      4\nS004      5    4.0    3.0      4\nS005      3    4.0    2.0      4\nS006      3    3.0    4.0      3\nS007      4    3.0    4.0      4\nS009      4    5.0    5.0      5\nS010      2    2.0    1.0      2\nS012      3    4.0    3.0      3\nS013      3    4.0    4.0      3\nS014      3    4.0    3.0      4\nS015      5    5.0    5.0      4"
     },
     "execution_count": 27,
     "metadata": {},
     "output_type": "execute_result"
    }
   ],
   "source": [
    "data3"
   ]
  },
  {
   "cell_type": "code",
   "execution_count": 28,
   "metadata": {},
   "outputs": [
    {
     "data": {
      "text/plain": "item1    3.384615\nitem2    3.692308\nitem3    3.384615\nitem4    3.615385\ndtype: float64"
     },
     "execution_count": 28,
     "metadata": {},
     "output_type": "execute_result"
    }
   ],
   "source": [
    "data3.mean()"
   ]
  },
  {
   "cell_type": "code",
   "execution_count": 30,
   "metadata": {},
   "outputs": [],
   "source": [
    "data3 = data3.T"
   ]
  },
  {
   "cell_type": "code",
   "execution_count": 44,
   "metadata": {},
   "outputs": [],
   "source": [
    "data3[\"mean\"] = data3.mean(axis=1)"
   ]
  },
  {
   "cell_type": "code",
   "execution_count": 45,
   "metadata": {},
   "outputs": [
    {
     "data": {
      "text/plain": "item1    3.384615\nitem2    3.692308\nitem3    3.384615\nitem4    3.615385\nName: mean, dtype: float64"
     },
     "execution_count": 45,
     "metadata": {},
     "output_type": "execute_result"
    }
   ],
   "source": [
    "data3[\"mean\"]"
   ]
  },
  {
   "cell_type": "code",
   "execution_count": 50,
   "metadata": {},
   "outputs": [],
   "source": [
    "data3 = data3.sort_values(by=\"mean\",ascending=False)"
   ]
  },
  {
   "cell_type": "code",
   "execution_count": 51,
   "metadata": {},
   "outputs": [
    {
     "data": {
      "text/html": "<div>\n<style scoped>\n    .dataframe tbody tr th:only-of-type {\n        vertical-align: middle;\n    }\n\n    .dataframe tbody tr th {\n        vertical-align: top;\n    }\n\n    .dataframe thead th {\n        text-align: right;\n    }\n</style>\n<table border=\"1\" class=\"dataframe\">\n  <thead>\n    <tr style=\"text-align: right;\">\n      <th></th>\n      <th>S001</th>\n      <th>S002</th>\n      <th>S003</th>\n      <th>S004</th>\n      <th>S005</th>\n      <th>S006</th>\n      <th>S007</th>\n      <th>S009</th>\n      <th>S010</th>\n      <th>S012</th>\n      <th>S013</th>\n      <th>S014</th>\n      <th>S015</th>\n      <th>mean</th>\n    </tr>\n  </thead>\n  <tbody>\n    <tr>\n      <th>item2</th>\n      <td>3.0</td>\n      <td>3.0</td>\n      <td>4.0</td>\n      <td>4.0</td>\n      <td>4.0</td>\n      <td>3.0</td>\n      <td>3.0</td>\n      <td>5.0</td>\n      <td>2.0</td>\n      <td>4.0</td>\n      <td>4.0</td>\n      <td>4.0</td>\n      <td>5.0</td>\n      <td>3.692308</td>\n    </tr>\n    <tr>\n      <th>item4</th>\n      <td>3.0</td>\n      <td>4.0</td>\n      <td>4.0</td>\n      <td>4.0</td>\n      <td>4.0</td>\n      <td>3.0</td>\n      <td>4.0</td>\n      <td>5.0</td>\n      <td>2.0</td>\n      <td>3.0</td>\n      <td>3.0</td>\n      <td>4.0</td>\n      <td>4.0</td>\n      <td>3.615385</td>\n    </tr>\n    <tr>\n      <th>item1</th>\n      <td>2.0</td>\n      <td>3.0</td>\n      <td>4.0</td>\n      <td>5.0</td>\n      <td>3.0</td>\n      <td>3.0</td>\n      <td>4.0</td>\n      <td>4.0</td>\n      <td>2.0</td>\n      <td>3.0</td>\n      <td>3.0</td>\n      <td>3.0</td>\n      <td>5.0</td>\n      <td>3.384615</td>\n    </tr>\n    <tr>\n      <th>item3</th>\n      <td>3.0</td>\n      <td>4.0</td>\n      <td>3.0</td>\n      <td>3.0</td>\n      <td>2.0</td>\n      <td>4.0</td>\n      <td>4.0</td>\n      <td>5.0</td>\n      <td>1.0</td>\n      <td>3.0</td>\n      <td>4.0</td>\n      <td>3.0</td>\n      <td>5.0</td>\n      <td>3.384615</td>\n    </tr>\n  </tbody>\n</table>\n</div>",
      "text/plain": "       S001  S002  S003  S004  S005  S006  S007  S009  S010  S012  S013  S014  \\\nitem2   3.0   3.0   4.0   4.0   4.0   3.0   3.0   5.0   2.0   4.0   4.0   4.0   \nitem4   3.0   4.0   4.0   4.0   4.0   3.0   4.0   5.0   2.0   3.0   3.0   4.0   \nitem1   2.0   3.0   4.0   5.0   3.0   3.0   4.0   4.0   2.0   3.0   3.0   3.0   \nitem3   3.0   4.0   3.0   3.0   2.0   4.0   4.0   5.0   1.0   3.0   4.0   3.0   \n\n       S015      mean  \nitem2   5.0  3.692308  \nitem4   4.0  3.615385  \nitem1   5.0  3.384615  \nitem3   5.0  3.384615  "
     },
     "execution_count": 51,
     "metadata": {},
     "output_type": "execute_result"
    }
   ],
   "source": [
    "data3"
   ]
  },
  {
   "cell_type": "code",
   "execution_count": null,
   "metadata": {},
   "outputs": [],
   "source": []
  }
 ]
}