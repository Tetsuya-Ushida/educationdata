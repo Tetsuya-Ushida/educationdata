{
 "nbformat": 4,
 "nbformat_minor": 2,
 "metadata": {
  "language_info": {
   "name": "python",
   "codemirror_mode": {
    "name": "ipython",
    "version": 3
   },
   "version": "3.7.4-final"
  },
  "orig_nbformat": 2,
  "file_extension": ".py",
  "mimetype": "text/x-python",
  "name": "python",
  "npconvert_exporter": "python",
  "pygments_lexer": "ipython3",
  "version": 3,
  "kernelspec": {
   "name": "python37464bit374pyenve61f2d109cf84db497a3a4bbdc6f8dd9",
   "display_name": "Python 3.7.4 64-bit ('3.7.4': pyenv)"
  }
 },
 "cells": [
  {
   "cell_type": "code",
   "execution_count": 1,
   "metadata": {},
   "outputs": [],
   "source": [
    "import pandas as pd\n",
    "import numpy as np"
   ]
  },
  {
   "cell_type": "code",
   "execution_count": 2,
   "metadata": {},
   "outputs": [],
   "source": [
    "data = pd.read_csv(\"original (5).csv\",index_col=0)"
   ]
  },
  {
   "cell_type": "code",
   "execution_count": 3,
   "metadata": {},
   "outputs": [
    {
     "data": {
      "text/html": "<div>\n<style scoped>\n    .dataframe tbody tr th:only-of-type {\n        vertical-align: middle;\n    }\n\n    .dataframe tbody tr th {\n        vertical-align: top;\n    }\n\n    .dataframe thead th {\n        text-align: right;\n    }\n</style>\n<table border=\"1\" class=\"dataframe\">\n  <thead>\n    <tr style=\"text-align: right;\">\n      <th></th>\n      <th>test_1</th>\n      <th>test_2</th>\n    </tr>\n  </thead>\n  <tbody>\n    <tr>\n      <th>S001</th>\n      <td>510</td>\n      <td>585</td>\n    </tr>\n    <tr>\n      <th>S002</th>\n      <td>722</td>\n      <td>800</td>\n    </tr>\n    <tr>\n      <th>S003</th>\n      <td>513</td>\n      <td>607</td>\n    </tr>\n    <tr>\n      <th>S004</th>\n      <td>730</td>\n      <td>800</td>\n    </tr>\n    <tr>\n      <th>S005</th>\n      <td>483</td>\n      <td>445</td>\n    </tr>\n  </tbody>\n</table>\n</div>",
      "text/plain": "      test_1  test_2\nS001     510     585\nS002     722     800\nS003     513     607\nS004     730     800\nS005     483     445"
     },
     "execution_count": 3,
     "metadata": {},
     "output_type": "execute_result"
    }
   ],
   "source": [
    "data.head()"
   ]
  },
  {
   "cell_type": "code",
   "execution_count": 6,
   "metadata": {},
   "outputs": [],
   "source": [
    "m1 = data[\"test_1\"].mean()\n",
    "m2 = data[\"test_2\"].mean()\n",
    "s1 = data[\"test_1\"].std()\n",
    "s2 = data[\"test_2\"].std()"
   ]
  },
  {
   "cell_type": "code",
   "execution_count": 9,
   "metadata": {},
   "outputs": [],
   "source": [
    "r = data.corr()[\"test_1\"][1]"
   ]
  },
  {
   "cell_type": "code",
   "execution_count": 11,
   "metadata": {},
   "outputs": [],
   "source": [
    "E = []\n",
    "\n",
    "for i in data[\"test_1\"]:\n",
    "    e = m2 + r*(s2/s1)*(i-m1)\n",
    "    E.append(e)"
   ]
  },
  {
   "cell_type": "code",
   "execution_count": 12,
   "metadata": {},
   "outputs": [],
   "source": [
    "data[\"expected\"] = E"
   ]
  },
  {
   "cell_type": "code",
   "execution_count": 13,
   "metadata": {},
   "outputs": [
    {
     "data": {
      "text/html": "<div>\n<style scoped>\n    .dataframe tbody tr th:only-of-type {\n        vertical-align: middle;\n    }\n\n    .dataframe tbody tr th {\n        vertical-align: top;\n    }\n\n    .dataframe thead th {\n        text-align: right;\n    }\n</style>\n<table border=\"1\" class=\"dataframe\">\n  <thead>\n    <tr style=\"text-align: right;\">\n      <th></th>\n      <th>test_1</th>\n      <th>test_2</th>\n      <th>expected</th>\n    </tr>\n  </thead>\n  <tbody>\n    <tr>\n      <th>S001</th>\n      <td>510</td>\n      <td>585</td>\n      <td>569.237508</td>\n    </tr>\n    <tr>\n      <th>S002</th>\n      <td>722</td>\n      <td>800</td>\n      <td>796.900825</td>\n    </tr>\n    <tr>\n      <th>S003</th>\n      <td>513</td>\n      <td>607</td>\n      <td>572.459159</td>\n    </tr>\n    <tr>\n      <th>S004</th>\n      <td>730</td>\n      <td>800</td>\n      <td>805.491893</td>\n    </tr>\n    <tr>\n      <th>S005</th>\n      <td>483</td>\n      <td>445</td>\n      <td>540.242652</td>\n    </tr>\n  </tbody>\n</table>\n</div>",
      "text/plain": "      test_1  test_2    expected\nS001     510     585  569.237508\nS002     722     800  796.900825\nS003     513     607  572.459159\nS004     730     800  805.491893\nS005     483     445  540.242652"
     },
     "execution_count": 13,
     "metadata": {},
     "output_type": "execute_result"
    }
   ],
   "source": [
    "data.head()"
   ]
  },
  {
   "cell_type": "code",
   "execution_count": 14,
   "metadata": {},
   "outputs": [],
   "source": [
    "data[\"diff\"] = data[\"test_2\"] - data[\"expected\"]"
   ]
  },
  {
   "cell_type": "code",
   "execution_count": 15,
   "metadata": {},
   "outputs": [
    {
     "data": {
      "text/html": "<div>\n<style scoped>\n    .dataframe tbody tr th:only-of-type {\n        vertical-align: middle;\n    }\n\n    .dataframe tbody tr th {\n        vertical-align: top;\n    }\n\n    .dataframe thead th {\n        text-align: right;\n    }\n</style>\n<table border=\"1\" class=\"dataframe\">\n  <thead>\n    <tr style=\"text-align: right;\">\n      <th></th>\n      <th>test_1</th>\n      <th>test_2</th>\n      <th>expected</th>\n      <th>diff</th>\n    </tr>\n  </thead>\n  <tbody>\n    <tr>\n      <th>S001</th>\n      <td>510</td>\n      <td>585</td>\n      <td>569.237508</td>\n      <td>15.762492</td>\n    </tr>\n    <tr>\n      <th>S002</th>\n      <td>722</td>\n      <td>800</td>\n      <td>796.900825</td>\n      <td>3.099175</td>\n    </tr>\n    <tr>\n      <th>S003</th>\n      <td>513</td>\n      <td>607</td>\n      <td>572.459159</td>\n      <td>34.540841</td>\n    </tr>\n    <tr>\n      <th>S004</th>\n      <td>730</td>\n      <td>800</td>\n      <td>805.491893</td>\n      <td>-5.491893</td>\n    </tr>\n    <tr>\n      <th>S005</th>\n      <td>483</td>\n      <td>445</td>\n      <td>540.242652</td>\n      <td>-95.242652</td>\n    </tr>\n  </tbody>\n</table>\n</div>",
      "text/plain": "      test_1  test_2    expected       diff\nS001     510     585  569.237508  15.762492\nS002     722     800  796.900825   3.099175\nS003     513     607  572.459159  34.540841\nS004     730     800  805.491893  -5.491893\nS005     483     445  540.242652 -95.242652"
     },
     "execution_count": 15,
     "metadata": {},
     "output_type": "execute_result"
    }
   ],
   "source": [
    "data.head()"
   ]
  },
  {
   "cell_type": "code",
   "execution_count": 16,
   "metadata": {},
   "outputs": [
    {
     "data": {
      "text/plain": "108"
     },
     "execution_count": 16,
     "metadata": {},
     "output_type": "execute_result"
    }
   ],
   "source": [
    "len(data[data[\"diff\"]>0])"
   ]
  },
  {
   "cell_type": "code",
   "execution_count": null,
   "metadata": {},
   "outputs": [],
   "source": []
  }
 ]
}